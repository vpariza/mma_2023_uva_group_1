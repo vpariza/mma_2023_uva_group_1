{
 "cells": [
  {
   "cell_type": "code",
   "execution_count": 54,
   "id": "b50246a9",
   "metadata": {},
   "outputs": [],
   "source": [
    "import h5py\n",
    "import configparser\n",
    "import pandas as pd\n",
    "import numpy as np\n",
    "import torch\n",
    "import os, sys\n",
    "import pickle\n",
    "import json\n",
    "from sentence_transformers import SentenceTransformer\n",
    "from nltk.tokenize import sent_tokenize"
   ]
  },
  {
   "cell_type": "code",
   "execution_count": 55,
   "id": "da6d1639",
   "metadata": {},
   "outputs": [],
   "source": [
    "device = \"cuda\" if torch.cuda.is_available() else \"cpu\""
   ]
  },
  {
   "cell_type": "markdown",
   "id": "46f0834d",
   "metadata": {},
   "source": [
    "## Similarity with Document Embeddings"
   ]
  },
  {
   "cell_type": "code",
   "execution_count": 57,
   "id": "0f523fe7",
   "metadata": {},
   "outputs": [],
   "source": [
    "#precomputed_text_features_path = \"/home/lcur0220/mma_2023_uva_group_1/dataloading/Funda/real_estate_text_features.pkl\"\n",
    "precomputed_text_features_path = \"dataloading/Funda/real_estate_sentence_features.pkl\"\n",
    "with open(precomputed_text_features_path, \"rb\") as f:\n",
    "    text_df = pickle.load(f)\n",
    "    text_df.set_index([\"funda_id\", \"text_id\"], inplace=True, drop=True)\n",
    "    text_features = np.array(text_df[\"text_features\"].tolist())\n",
    "    \n"
   ]
  },
  {
   "cell_type": "code",
   "execution_count": 58,
   "id": "94930797",
   "metadata": {},
   "outputs": [],
   "source": [
    "def cosine_similarity(a, b):\n",
    "        return (np.dot(a, b) / (np.linalg.norm(a) * np.linalg.norm(b))).squeeze(0)\n",
    "    \n",
    "def aggregate_scores(embedding_df, scores):\n",
    "        embedding_df[\"scores\"] = scores\n",
    "        indices = embedding_df.groupby(\"funda_id\")[\"scores\"].idxmax()\n",
    "        return indices"
   ]
  },
  {
   "cell_type": "markdown",
   "id": "ca2e305d",
   "metadata": {},
   "source": [
    "## Encoding of query"
   ]
  },
  {
   "cell_type": "code",
   "execution_count": 56,
   "id": "a8eda73f",
   "metadata": {},
   "outputs": [],
   "source": [
    "csv_path = \"dataloading/Funda/dataset.csv\"\n",
    "df = pd.read_csv(csv_path, dtype=str, index_col=0)\n",
    "df = df.set_index('funda_identifier', drop=True)\n",
    "df.index = df.index.astype(int)"
   ]
  },
  {
   "cell_type": "code",
   "execution_count": 77,
   "id": "72d7a9a5",
   "metadata": {},
   "outputs": [],
   "source": [
    "model = SentenceTransformer('krlng/sts-GBERT-bi-encoder')\n",
    "query = \"a princess castle\"\n",
    "q_embedding = model.encode(query)\n",
    "q_embedding = np.expand_dims(q_embedding, axis=0)"
   ]
  },
  {
   "cell_type": "code",
   "execution_count": 78,
   "id": "b868c55c",
   "metadata": {},
   "outputs": [],
   "source": [
    "# Calculate cosine similarity\n",
    "similarity_scores = cosine_similarity(q_embedding, text_features.T).round(4)"
   ]
  },
  {
   "cell_type": "code",
   "execution_count": 79,
   "id": "13dd26b4",
   "metadata": {},
   "outputs": [],
   "source": [
    "# Max aggregation of scores\n",
    "max_scores_idxs = aggregate_scores(text_df, similarity_scores)\n",
    "max_scores_ids = max_scores_idxs.apply(lambda x: x[1])\n",
    "max_scores_ids.name = \"max_id\"\n",
    "max_scores = text_df.loc[max_scores_idxs].scores\n",
    "max_scores.name = \"max_score\"\n",
    "max_features = text_df.loc[max_scores_idxs].text_features\n",
    "max_features.name = \"max_feature\""
   ]
  },
  {
   "cell_type": "code",
   "execution_count": 80,
   "id": "de64176e",
   "metadata": {},
   "outputs": [],
   "source": [
    "# Merge to main df\n",
    "max_scores.index = max_scores.index.droplevel(1)\n",
    "df_merged = df.merge(max_scores, how=\"left\", left_index=True, right_index=True) # scores\n",
    "df_merged = df_merged.merge(max_scores_ids, how=\"left\", left_index=True, right_index=True) # which sentence"
   ]
  },
  {
   "cell_type": "code",
   "execution_count": 81,
   "id": "64f3b32c",
   "metadata": {},
   "outputs": [],
   "source": [
    "# Extract n'th sentence from description\n",
    "def get_nth_sentence(data):\n",
    "    n = data[\"max_id\"]\n",
    "    description = data[\"description\"]\n",
    "    return sent_tokenize(description)[n]\n",
    "\n",
    "df_merged[\"max_sentence\"] = df_merged.apply(get_nth_sentence, axis=1)"
   ]
  },
  {
   "cell_type": "code",
   "execution_count": 82,
   "id": "4f629290",
   "metadata": {},
   "outputs": [],
   "source": [
    "df_sorted = df_merged.sort_values(\"max_score\", ascending=False)"
   ]
  },
  {
   "cell_type": "code",
   "execution_count": 83,
   "id": "6c403f2f",
   "metadata": {},
   "outputs": [
    {
     "data": {
      "text/html": [
       "<div>\n",
       "<style scoped>\n",
       "    .dataframe tbody tr th:only-of-type {\n",
       "        vertical-align: middle;\n",
       "    }\n",
       "\n",
       "    .dataframe tbody tr th {\n",
       "        vertical-align: top;\n",
       "    }\n",
       "\n",
       "    .dataframe thead th {\n",
       "        text-align: right;\n",
       "    }\n",
       "</style>\n",
       "<table border=\"1\" class=\"dataframe\">\n",
       "  <thead>\n",
       "    <tr style=\"text-align: right;\">\n",
       "      <th></th>\n",
       "      <th>max_score</th>\n",
       "      <th>max_sentence</th>\n",
       "    </tr>\n",
       "    <tr>\n",
       "      <th>funda_identifier</th>\n",
       "      <th></th>\n",
       "      <th></th>\n",
       "    </tr>\n",
       "  </thead>\n",
       "  <tbody>\n",
       "    <tr>\n",
       "      <th>42111216</th>\n",
       "      <td>0.0009</td>\n",
       "      <td>Would you like  to  live like  a prince  in an...</td>\n",
       "    </tr>\n",
       "    <tr>\n",
       "      <th>42101358</th>\n",
       "      <td>0.0008</td>\n",
       "      <td>Achter de woning bevindt zich namelijk een roy...</td>\n",
       "    </tr>\n",
       "    <tr>\n",
       "      <th>42127917</th>\n",
       "      <td>0.0008</td>\n",
       "      <td>Enter your own Palace with this unique split l...</td>\n",
       "    </tr>\n",
       "    <tr>\n",
       "      <th>42109838</th>\n",
       "      <td>0.0008</td>\n",
       "      <td>Living in a  monumental  warehouse on  the fai...</td>\n",
       "    </tr>\n",
       "    <tr>\n",
       "      <th>42117848</th>\n",
       "      <td>0.0008</td>\n",
       "      <td>Welcome to your future Palace!</td>\n",
       "    </tr>\n",
       "  </tbody>\n",
       "</table>\n",
       "</div>"
      ],
      "text/plain": [
       "                  max_score                                       max_sentence\n",
       "funda_identifier                                                              \n",
       "42111216             0.0009  Would you like  to  live like  a prince  in an...\n",
       "42101358             0.0008  Achter de woning bevindt zich namelijk een roy...\n",
       "42127917             0.0008  Enter your own Palace with this unique split l...\n",
       "42109838             0.0008  Living in a  monumental  warehouse on  the fai...\n",
       "42117848             0.0008                     Welcome to your future Palace!"
      ]
     },
     "execution_count": 83,
     "metadata": {},
     "output_type": "execute_result"
    }
   ],
   "source": [
    "df_sorted.head(5)[[\"max_score\", \"max_sentence\"]]"
   ]
  },
  {
   "cell_type": "code",
   "execution_count": 84,
   "id": "6ae1dc3a",
   "metadata": {},
   "outputs": [
    {
     "data": {
      "text/html": [
       "<div>\n",
       "<style scoped>\n",
       "    .dataframe tbody tr th:only-of-type {\n",
       "        vertical-align: middle;\n",
       "    }\n",
       "\n",
       "    .dataframe tbody tr th {\n",
       "        vertical-align: top;\n",
       "    }\n",
       "\n",
       "    .dataframe thead th {\n",
       "        text-align: right;\n",
       "    }\n",
       "</style>\n",
       "<table border=\"1\" class=\"dataframe\">\n",
       "  <thead>\n",
       "    <tr style=\"text-align: right;\">\n",
       "      <th></th>\n",
       "      <th>max_score</th>\n",
       "      <th>max_sentence</th>\n",
       "    </tr>\n",
       "    <tr>\n",
       "      <th>funda_identifier</th>\n",
       "      <th></th>\n",
       "      <th></th>\n",
       "    </tr>\n",
       "  </thead>\n",
       "  <tbody>\n",
       "    <tr>\n",
       "      <th>42128486</th>\n",
       "      <td>0.0002</td>\n",
       "      <td>Eureka!</td>\n",
       "    </tr>\n",
       "    <tr>\n",
       "      <th>42125526</th>\n",
       "      <td>0.0002</td>\n",
       "      <td>A perfect base; ready to move in, sleekly styl...</td>\n",
       "    </tr>\n",
       "    <tr>\n",
       "      <th>42114116</th>\n",
       "      <td>0.0002</td>\n",
       "      <td>Sold immediately!</td>\n",
       "    </tr>\n",
       "    <tr>\n",
       "      <th>42128671</th>\n",
       "      <td>0.0002</td>\n",
       "      <td>SQUARE BUILDING NUMBER 5.30 • Nice corner apar...</td>\n",
       "    </tr>\n",
       "    <tr>\n",
       "      <th>42126717</th>\n",
       "      <td>0.0001</td>\n",
       "      <td>Oranjelaan 39 in 3843 AB Harderwijk</td>\n",
       "    </tr>\n",
       "  </tbody>\n",
       "</table>\n",
       "</div>"
      ],
      "text/plain": [
       "                  max_score                                       max_sentence\n",
       "funda_identifier                                                              \n",
       "42128486             0.0002                                            Eureka!\n",
       "42125526             0.0002  A perfect base; ready to move in, sleekly styl...\n",
       "42114116             0.0002                                  Sold immediately!\n",
       "42128671             0.0002  SQUARE BUILDING NUMBER 5.30 • Nice corner apar...\n",
       "42126717             0.0001                Oranjelaan 39 in 3843 AB Harderwijk"
      ]
     },
     "execution_count": 84,
     "metadata": {},
     "output_type": "execute_result"
    }
   ],
   "source": [
    "df_sorted.tail(5)[[\"max_score\", \"max_sentence\"]]"
   ]
  }
 ],
 "metadata": {
  "kernelspec": {
   "display_name": "mma",
   "language": "python",
   "name": "python3"
  },
  "language_info": {
   "codemirror_mode": {
    "name": "ipython",
    "version": 3
   },
   "file_extension": ".py",
   "mimetype": "text/x-python",
   "name": "python",
   "nbconvert_exporter": "python",
   "pygments_lexer": "ipython3",
   "version": "3.11.3 (main, Apr 19 2023, 18:51:09) [Clang 14.0.6 ]"
  },
  "vscode": {
   "interpreter": {
    "hash": "594453c5d240ac204b52dcbf4d56b41af9ee370cf9dc1c360aece7cfb43953b3"
   }
  }
 },
 "nbformat": 4,
 "nbformat_minor": 5
}
