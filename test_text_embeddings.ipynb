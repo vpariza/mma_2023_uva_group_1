{
 "cells": [
  {
   "cell_type": "code",
   "execution_count": 33,
   "id": "b50246a9",
   "metadata": {},
   "outputs": [],
   "source": [
    "import h5py\n",
    "import configparser\n",
    "import pandas as pd\n",
    "import numpy as np\n",
    "import torch\n",
    "import os, sys\n",
    "import pickle\n",
    "import json\n",
    "from sentence_transformers import SentenceTransformer\n",
    "from nltk.tokenize import sent_tokenize"
   ]
  },
  {
   "cell_type": "code",
   "execution_count": 2,
   "id": "da6d1639",
   "metadata": {},
   "outputs": [],
   "source": [
    "device = \"cuda\" if torch.cuda.is_available() else \"cpu\""
   ]
  },
  {
   "cell_type": "code",
   "execution_count": null,
   "id": "a8ab9b7b",
   "metadata": {},
   "outputs": [],
   "source": []
  },
  {
   "cell_type": "markdown",
   "id": "ca2e305d",
   "metadata": {},
   "source": [
    "## Encoding of query"
   ]
  },
  {
   "cell_type": "code",
   "execution_count": 51,
   "id": "72d7a9a5",
   "metadata": {},
   "outputs": [],
   "source": [
    "model = SentenceTransformer('krlng/sts-GBERT-bi-encoder')\n",
    "query = \"Big open kitchen\"\n",
    "q_embedding = model.encode(query)\n",
    "q_embedding = np.expand_dims(q_embedding, axis=0)"
   ]
  },
  {
   "cell_type": "code",
   "execution_count": 58,
   "id": "a8eda73f",
   "metadata": {},
   "outputs": [],
   "source": [
    "csv_path = \"/home/lcur0220/mma_2023_uva_group_1/dataloading/Funda/dataset.csv\"\n",
    "df = pd.read_csv(csv_path, dtype=str, index_col=0)\n",
    "df = df.set_index('funda_identifier', drop=True)\n",
    "df.index = df.index.astype(int)"
   ]
  },
  {
   "cell_type": "markdown",
   "id": "46f0834d",
   "metadata": {},
   "source": [
    "## Similarity with Document Embeddings"
   ]
  },
  {
   "cell_type": "code",
   "execution_count": 59,
   "id": "0f523fe7",
   "metadata": {},
   "outputs": [],
   "source": [
    "#precomputed_text_features_path = \"/home/lcur0220/mma_2023_uva_group_1/dataloading/Funda/real_estate_text_features.pkl\"\n",
    "precomputed_text_features_path = \"/home/lcur0220/mma_2023_uva_group_1/dataloading/Funda/real_estate_sentence_features.pkl\"\n",
    "with open(precomputed_text_features_path, \"rb\") as f:\n",
    "    text_df = pickle.load(f)\n",
    "    text_df.set_index([\"funda_id\", \"text_id\"], inplace=True, drop=True)\n",
    "    text_features = np.array(text_df[\"text_features\"].tolist())\n",
    "    \n"
   ]
  },
  {
   "cell_type": "code",
   "execution_count": 60,
   "id": "94930797",
   "metadata": {},
   "outputs": [],
   "source": [
    "def cosine_similarity(a, b):\n",
    "        return (np.dot(a, b) / (np.linalg.norm(a) * np.linalg.norm(b))).squeeze(0)\n",
    "    \n",
    "def aggregate_scores(embedding_df, scores):\n",
    "    embedding_df[\"scores\"] = scores\n",
    "    indices = embedding_df.groupby(\"funda_id\")[\"umap_x\"].idxmax()\n",
    "    return indices"
   ]
  },
  {
   "cell_type": "code",
   "execution_count": 61,
   "id": "b868c55c",
   "metadata": {},
   "outputs": [],
   "source": [
    "# Calculate cosine similarity\n",
    "similarity_scores = cosine_similarity(q_embedding, text_features.T).round(4)"
   ]
  },
  {
   "cell_type": "code",
   "execution_count": 62,
   "id": "13dd26b4",
   "metadata": {},
   "outputs": [],
   "source": [
    "# Max aggregation of scores\n",
    "max_scores_idxs = aggregate_scores(text_df, similarity_scores)\n",
    "max_scores_ids = max_scores_idxs.apply(lambda x: x[1])\n",
    "max_scores_ids.name = \"max_id\"\n",
    "max_scores = text_df.loc[max_scores_idxs].scores\n",
    "max_scores.name = \"max_score\"\n",
    "max_features = text_df.loc[max_scores_idxs].text_features\n",
    "max_features.name = \"max_feature\""
   ]
  },
  {
   "cell_type": "code",
   "execution_count": 63,
   "id": "de64176e",
   "metadata": {},
   "outputs": [],
   "source": [
    "# Merge to main df\n",
    "max_scores.index = max_scores.index.droplevel(1)\n",
    "df = df.merge(max_scores, how=\"left\", left_index=True, right_index=True)\n",
    "df = df.merge(max_scores_ids, how=\"left\", left_index=True, right_index=True)"
   ]
  },
  {
   "cell_type": "code",
   "execution_count": 64,
   "id": "64f3b32c",
   "metadata": {},
   "outputs": [],
   "source": [
    "# Extract n'th sentence from description\n",
    "def get_nth_sentence(data):\n",
    "    n = data[\"max_id\"]\n",
    "    description = data[\"description\"]\n",
    "    return sent_tokenize(description)[n]\n",
    "\n",
    "df[\"max_sentence\"] = df.apply(get_nth_sentence, axis=1)"
   ]
  },
  {
   "cell_type": "code",
   "execution_count": 65,
   "id": "4f629290",
   "metadata": {},
   "outputs": [],
   "source": [
    "df = df.sort_values(\"max_score\", ascending=False)"
   ]
  },
  {
   "cell_type": "code",
   "execution_count": 66,
   "id": "6c403f2f",
   "metadata": {},
   "outputs": [
    {
     "data": {
      "text/html": [
       "<div>\n",
       "<style scoped>\n",
       "    .dataframe tbody tr th:only-of-type {\n",
       "        vertical-align: middle;\n",
       "    }\n",
       "\n",
       "    .dataframe tbody tr th {\n",
       "        vertical-align: top;\n",
       "    }\n",
       "\n",
       "    .dataframe thead th {\n",
       "        text-align: right;\n",
       "    }\n",
       "</style>\n",
       "<table border=\"1\" class=\"dataframe\">\n",
       "  <thead>\n",
       "    <tr style=\"text-align: right;\">\n",
       "      <th></th>\n",
       "      <th>max_score</th>\n",
       "      <th>max_sentence</th>\n",
       "    </tr>\n",
       "    <tr>\n",
       "      <th>funda_identifier</th>\n",
       "      <th></th>\n",
       "      <th></th>\n",
       "    </tr>\n",
       "  </thead>\n",
       "  <tbody>\n",
       "    <tr>\n",
       "      <th>42127234</th>\n",
       "      <td>0.0012</td>\n",
       "      <td>Open kitchen with various equipment.</td>\n",
       "    </tr>\n",
       "    <tr>\n",
       "      <th>42108354</th>\n",
       "      <td>0.0012</td>\n",
       "      <td>On the ground floor, the semi-open kitchen are...</td>\n",
       "    </tr>\n",
       "    <tr>\n",
       "      <th>42107124</th>\n",
       "      <td>0.0011</td>\n",
       "      <td>Open kitchen with simple kitchen unit where yo...</td>\n",
       "    </tr>\n",
       "    <tr>\n",
       "      <th>42100590</th>\n",
       "      <td>0.0011</td>\n",
       "      <td>The simple semi-open kitchen offers possibilit...</td>\n",
       "    </tr>\n",
       "    <tr>\n",
       "      <th>42103363</th>\n",
       "      <td>0.0011</td>\n",
       "      <td>The living room with open kitchen is wonderful...</td>\n",
       "    </tr>\n",
       "  </tbody>\n",
       "</table>\n",
       "</div>"
      ],
      "text/plain": [
       "                  max_score                                       max_sentence\n",
       "funda_identifier                                                              \n",
       "42127234             0.0012               Open kitchen with various equipment.\n",
       "42108354             0.0012  On the ground floor, the semi-open kitchen are...\n",
       "42107124             0.0011  Open kitchen with simple kitchen unit where yo...\n",
       "42100590             0.0011  The simple semi-open kitchen offers possibilit...\n",
       "42103363             0.0011  The living room with open kitchen is wonderful..."
      ]
     },
     "execution_count": 66,
     "metadata": {},
     "output_type": "execute_result"
    }
   ],
   "source": [
    "df.head(5)[[\"max_score\", \"max_sentence\"]]"
   ]
  },
  {
   "cell_type": "code",
   "execution_count": 68,
   "id": "6ae1dc3a",
   "metadata": {},
   "outputs": [
    {
     "data": {
      "text/html": [
       "<div>\n",
       "<style scoped>\n",
       "    .dataframe tbody tr th:only-of-type {\n",
       "        vertical-align: middle;\n",
       "    }\n",
       "\n",
       "    .dataframe tbody tr th {\n",
       "        vertical-align: top;\n",
       "    }\n",
       "\n",
       "    .dataframe thead th {\n",
       "        text-align: right;\n",
       "    }\n",
       "</style>\n",
       "<table border=\"1\" class=\"dataframe\">\n",
       "  <thead>\n",
       "    <tr style=\"text-align: right;\">\n",
       "      <th></th>\n",
       "      <th>max_score</th>\n",
       "      <th>max_sentence</th>\n",
       "    </tr>\n",
       "    <tr>\n",
       "      <th>funda_identifier</th>\n",
       "      <th></th>\n",
       "      <th></th>\n",
       "    </tr>\n",
       "  </thead>\n",
       "  <tbody>\n",
       "    <tr>\n",
       "      <th>42109297</th>\n",
       "      <td>0.0</td>\n",
       "      <td>There are two access roads towards Amsterdam: ...</td>\n",
       "    </tr>\n",
       "    <tr>\n",
       "      <th>42116892</th>\n",
       "      <td>0.0</td>\n",
       "      <td>Located just 200 meters walking distance from ...</td>\n",
       "    </tr>\n",
       "    <tr>\n",
       "      <th>42100753</th>\n",
       "      <td>0.0</td>\n",
       "      <td>B.jr.</td>\n",
       "    </tr>\n",
       "    <tr>\n",
       "      <th>42106040</th>\n",
       "      <td>0.0</td>\n",
       "      <td>The viewing days are on Friday 19-05-2023 and ...</td>\n",
       "    </tr>\n",
       "    <tr>\n",
       "      <th>42108163</th>\n",
       "      <td>0.0</td>\n",
       "      <td>Within 20 minutes you are in Amsterdam.</td>\n",
       "    </tr>\n",
       "  </tbody>\n",
       "</table>\n",
       "</div>"
      ],
      "text/plain": [
       "                  max_score                                       max_sentence\n",
       "funda_identifier                                                              \n",
       "42109297                0.0  There are two access roads towards Amsterdam: ...\n",
       "42116892                0.0  Located just 200 meters walking distance from ...\n",
       "42100753                0.0                                              B.jr.\n",
       "42106040                0.0  The viewing days are on Friday 19-05-2023 and ...\n",
       "42108163                0.0            Within 20 minutes you are in Amsterdam."
      ]
     },
     "execution_count": 68,
     "metadata": {},
     "output_type": "execute_result"
    }
   ],
   "source": [
    "df.tail(5)[[\"max_score\", \"max_sentence\"]]"
   ]
  },
  {
   "cell_type": "code",
   "execution_count": null,
   "id": "47c6e171",
   "metadata": {},
   "outputs": [],
   "source": []
  },
  {
   "cell_type": "code",
   "execution_count": null,
   "id": "e624fbef",
   "metadata": {},
   "outputs": [],
   "source": []
  },
  {
   "cell_type": "code",
   "execution_count": null,
   "id": "6135e30e",
   "metadata": {},
   "outputs": [],
   "source": []
  },
  {
   "cell_type": "code",
   "execution_count": null,
   "id": "2ae2532c",
   "metadata": {},
   "outputs": [],
   "source": []
  },
  {
   "cell_type": "code",
   "execution_count": null,
   "id": "a8b2f8f7",
   "metadata": {},
   "outputs": [],
   "source": []
  },
  {
   "cell_type": "code",
   "execution_count": null,
   "id": "9a048d7d",
   "metadata": {},
   "outputs": [],
   "source": []
  },
  {
   "cell_type": "code",
   "execution_count": null,
   "id": "185a385c",
   "metadata": {},
   "outputs": [],
   "source": []
  },
  {
   "cell_type": "code",
   "execution_count": null,
   "id": "82614f91",
   "metadata": {},
   "outputs": [],
   "source": []
  }
 ],
 "metadata": {
  "kernelspec": {
   "display_name": "Python 3 (ipykernel)",
   "language": "python",
   "name": "python3"
  },
  "language_info": {
   "codemirror_mode": {
    "name": "ipython",
    "version": 3
   },
   "file_extension": ".py",
   "mimetype": "text/x-python",
   "name": "python",
   "nbconvert_exporter": "python",
   "pygments_lexer": "ipython3",
   "version": "3.11.3"
  }
 },
 "nbformat": 4,
 "nbformat_minor": 5
}
