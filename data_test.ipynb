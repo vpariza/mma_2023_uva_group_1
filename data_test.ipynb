{
 "cells": [
  {
   "cell_type": "code",
   "execution_count": 1,
   "id": "e1da7340",
   "metadata": {
    "colab": {
     "base_uri": "https://localhost:8080/"
    },
    "id": "e1da7340",
    "outputId": "20a049f3-0436-4db2-a4d4-68750815fed8"
   },
   "outputs": [],
   "source": [
    "# !pip install jsonlines\n",
    "# # !pip install google_trans_new\n",
    "# !pip install -U deep-translator\n",
    "# !pip install langdetect"
   ]
  },
  {
   "cell_type": "code",
   "execution_count": 2,
   "id": "WMstC3SjWpEN",
   "metadata": {
    "colab": {
     "base_uri": "https://localhost:8080/"
    },
    "id": "WMstC3SjWpEN",
    "outputId": "9fa210c6-a621-4fbd-8353-7846a40a1a9d"
   },
   "outputs": [],
   "source": [
    "# from google.colab import drive\n",
    "# drive.mount('/content/drive')"
   ]
  },
  {
   "cell_type": "code",
   "execution_count": 1,
   "id": "yn4pHiiPUGU2",
   "metadata": {
    "id": "yn4pHiiPUGU2"
   },
   "outputs": [],
   "source": [
    "import numpy as np\n",
    "import jsonlines as jsl\n",
    "import pandas as pd\n",
    "import json\n",
    "from flatten_json import flatten\n",
    "import re\n",
    "\n",
    "# from google_trans_new import google_translator  \n",
    "# from deep_translator import GoogleTranslator, single_detection\n",
    "# from langdetect import detect"
   ]
  },
  {
   "cell_type": "markdown",
   "id": "359cec80",
   "metadata": {},
   "source": [
    "# TODO\n",
    "\n",
    "\n",
    "- define list of filters (range/value)\n",
    "- preprocess all strings into ints, floats\n",
    "\n",
    "\n",
    "## Filter List\n",
    "price, location(map), highlights.living area, highlights.plot size, number of bedrooms, number of rooms, price per m^2, parking, in_the_neighborhood, construction.type_of_house, location?, year_of_construction, ..."
   ]
  },
  {
   "cell_type": "code",
   "execution_count": 2,
   "id": "3a8bdc00",
   "metadata": {
    "id": "3a8bdc00"
   },
   "outputs": [],
   "source": [
    "\n",
    "# trans = GoogleTranslator(source='nl', target='en', max_characters=20000)\n",
    "# trans.translate(\"pindakaas\")\n",
    "\n",
    "# path = '/content/drive/MyDrive/ads.jsonlines'\n",
    "path = 'ads_trans.jsonlines'\n"
   ]
  },
  {
   "cell_type": "code",
   "execution_count": 3,
   "id": "2c026356",
   "metadata": {
    "colab": {
     "base_uri": "https://localhost:8080/"
    },
    "id": "2c026356",
    "outputId": "f6b28871-c34f-49e2-8581-4e3584a5a1a6"
   },
   "outputs": [
    {
     "data": {
      "text/plain": [
       "{'crawl_time': 1685020679.2128732,\n",
       " 'url': 'https://www.funda.nl/koop/amersfoort/huis-42126054-hogeweg-66/',\n",
       " 'funda_identifier': '42126054',\n",
       " 'images_paths': ['42126054/image3.jpeg',\n",
       "  '42126054/image1.jpeg',\n",
       "  '42126054/image4.jpeg',\n",
       "  '42126054/image5.jpeg',\n",
       "  '42126054/image2.jpeg'],\n",
       " 'location_part1': 'Hogeweg 66',\n",
       " 'location_part2': '3814 CE Amersfoort',\n",
       " 'location_part3': 'Kruiskamp-Zuid',\n",
       " 'price': '€ 450,000 k.k.',\n",
       " 'highlights': {'living area': '110 m²',\n",
       "  'plot size': '189 m²',\n",
       "  'bedrooms': '2'},\n",
       " 'features': {'transfer of ownership': {'asking price': '€ 450,000 kosten koper',\n",
       "   'asking price per m²': \"€ 4,091 The asking price per m² (€ 450,000) is calculated by dividing the asking price of the home by the living area (110 m²). Plot size and outbuildings aren't taken into account into this calculation. More information\",\n",
       "   'listed since': 'Today',\n",
       "   'status': 'Available',\n",
       "   'acceptance': 'Available in consultation'},\n",
       "  'construction': {'kind of house': 'Single-family home, row house',\n",
       "   'building type': 'Resale property',\n",
       "   'year of construction': '1905'},\n",
       "  'surface areas and volume': {'living area': '110 m²',\n",
       "   'exterior space attached to the building': '17 m²',\n",
       "   'external storage space': '15 m²',\n",
       "   'plot size': '189 m²',\n",
       "   'volume in cubic meters': '285 m³'},\n",
       "  'layout': {'number of rooms': '3 rooms (2 bedrooms)',\n",
       "   'number of bath rooms': '1 bathroom and 2 separate toilets',\n",
       "   'bathroom facilities': 'Bath and shower',\n",
       "   'number of stories': '2 stories and a loft',\n",
       "   'facilities': 'Optical fibre and flue'},\n",
       "  'energy': {'energy label': 'C',\n",
       "   'insulation': 'Roof insulation, double glazing and floor insulation',\n",
       "   'heating': 'CH boiler and wood heater',\n",
       "   'hot water': 'CH boiler',\n",
       "   'ch boiler': 'Vaillant (gas-fired combination boiler from 2012, in ownership)'},\n",
       "  'exterior space': {'garden': 'Back garden and front garden',\n",
       "   'back garden': '99 m² (18 meter deep and 5,5 meter broad)',\n",
       "   'garden location': 'Located at the north accessible via the rear'},\n",
       "  'storage space': {'shed / storage': 'Detached wooden storage',\n",
       "   'facilities': 'Electricity'},\n",
       "  'parking': {'type of parking facilities': 'Public parking'}},\n",
       " 'in_the_neighborhood': ['Elementary school', 'Supermarket', 'Bus stop'],\n",
       " 'geolocation': {'lat': '52.15718', 'lon': '5.400165'},\n",
       " 'description': 'This charming and well-maintained single-family home is located close to the city center of Amersfoort. The house has a deep, secluded backyard with a large shed with roof (2020) and the existing extension at the rear of the house has created a lot of extra living space on the ground floor. The spacious kitchen, modern bathroom and the two spacious (possibility for three) bedrooms make this a wonderful family home! The Hogeweg has been transformed in recent years, together with the new Hogekwartier district, into a beautiful entrance to the city. The cozy historic center is within walking distance, the NS central station is within cycling distance and from the house you have a good connection with the A28 motorway and the adjacent A1. Shopping centers with supermarkets on Euterpe and Neptunusplein are close by and the Amarena swimming pool is within walking distance I N D E L I N G Ground floor: entrance/hall with characteristic wooden panelling, toilet and meter cupboard. The spacious attractive living room has a wooden floor and a wood stove (for acquisition), the stove installed in 2019 ensures a wonderfully warm house in the cold seasons and keeps heating costs low. From the living area, the kitchen with comfortable underfloor heating is accessible through French doors. Due to the use of two skylights, large windows in the rear facade and the patio doors to the garden, there is a lot of natural light. The modern corner kitchen is equipped with various built-in appliances such as a wide oven with 5-burner gas stove, plate warmer, microwave, sink and a recently renovated dishwasher. You will also find the connection for the washing machine here. First floor: landing with second toilet and cupboard with central heating boiler. On this floor you will find two spacious bedrooms, if a third (bed) room is desired, it is easy to place a wall in the large bedroom at the rear. The bathroom in black and white color scheme has underfloor heating, a shower cabin, a double sink and a bathtub. Attic: the attic can be reached from the landing via a Vlizotrap. This spacious attic spans the entire width of the house. Garden and storage room: the backyard with a north location is no less than 18 meters deep and is beautifully landscaped. The garden is partly paved and there is a lawn with a path to the recently built wooden shed with a roof. The barn of approximately 15 m² offers a lot of space and possibilities, for example you can create a nice home workplace, hobby / DIY room or extra living space. The shed also offers space for storing garden equipment or bicycles. You can enjoy the garden in all seasons under the spacious roof. On a hot summer day, you can choose whether you want to cool off under the roof or worship the sun in the middle of the garden. K E N M E R K E N - year of construction 1905 - living area 110 m² - plot area 189 m² - energy label C - generous living space on the ground floor - possibilities for extra living space in the barn - underfloor heating in kitchen and bathroom - low heating costs thanks to wood stove - spacious garden with new barn + roof (installed in 2020) - exterior painting work carried out in 2019 - within walking distance of the historic center - near arterial roads'}"
      ]
     },
     "execution_count": 3,
     "metadata": {},
     "output_type": "execute_result"
    }
   ],
   "source": [
    "reader = jsl.open(path)\n",
    "first = reader.read()\n",
    "first\n"
   ]
  },
  {
   "cell_type": "code",
   "execution_count": 4,
   "id": "dc7816bd",
   "metadata": {
    "colab": {
     "base_uri": "https://localhost:8080/"
    },
    "id": "3bdbdbcd",
    "outputId": "23b407c1-21e2-4d4d-b8fd-f035dc854e61"
   },
   "outputs": [],
   "source": [
    "data = []\n",
    "file_path = path\n",
    "\n",
    "# Read the .jsonlines file line by line\n",
    "with open(file_path, 'r') as file:\n",
    "    for line in file:        \n",
    "        json_obj = json.loads(line)\n",
    "        \n",
    "        # Remove the 'images_paths' key and retrieve its value\n",
    "        img_path = json_obj.pop('images_paths', '')\n",
    "        neighb = json_obj.pop('in_the_neighborhood', '')\n",
    "        \n",
    "        json_obj = flatten(json_obj)\n",
    "        json_obj['images_paths'] = img_path\n",
    "        json_obj['in_the_neighborhood'] = neighb\n",
    "        \n",
    "        # Append the JSON object to the list\n",
    "        data.append(json_obj)\n",
    "        \n",
    "        \n",
    "# data[16000].keys()"
   ]
  },
  {
   "cell_type": "code",
   "execution_count": 74,
   "id": "9eb0429b",
   "metadata": {},
   "outputs": [],
   "source": [
    "df = pd.DataFrame.from_dict(data)\n",
    "df.columns = df.columns.str.replace(' ', '_')\n",
    "\n",
    "prefixes = ['features_', 'transfer_of_ownership_', 'construction_', 'surface_areas_and_volume_',\n",
    "            'layout_', 'energy_', 'exterior_space_', 'storage_space_', 'parking_', 'geolocation_',\n",
    "            'garage_', 'highlights_']\n",
    "\n",
    "#remove prefixes created during flattening\n",
    "for prefix in prefixes:\n",
    "    df.columns = df.columns.str.replace(prefix, '')\n",
    "    \n",
    "#remove columns with duplicate names\n",
    "df = df.loc[:, ~df.columns.duplicated()]\n",
    "\n",
    "#remove irrelevant characteristics\n",
    "df = df.filter(regex=r'^(?!vve_)')\n",
    "df = df.drop(['asking_price','crawl_time', 'url', ], axis=1)\n",
    "\n",
    "\n",
    "#remove properties without a set price\n",
    "df['price'] = df['price'].str.replace(',', '').apply(lambda x: re.search(r'\\d+', x).group(0) if re.search(r'\\d+', x) else 'todrop')\n",
    "df = df[df['price'] != 'todrop']\n",
    "df['price'] = df['price'].astype(int)\n",
    "\n",
    "#clean features with less than 1k non-empty values\n",
    "df = df.dropna(axis=1, thresh=1000)\n",
    "df = df.fillna('')\n",
    "\n",
    "# df.head()\n",
    "\n",
    "\n",
    "int_keys = [\n",
    "    'living_area',\n",
    "    'plot_size',\n",
    "    'bedrooms',\n",
    "    'year_of_construction',\n",
    "    'volume_in_cubic_meters',\n",
    "    'living_area',\n",
    "    'external_storage_space',\n",
    "#     'number_of_rooms',\n",
    "#     'number_of_bath_rooms',\n",
    "    'other_space_inside_the_building'\n",
    "\n",
    "]\n",
    "\n",
    "float_keys=[\n",
    "    'asking_price_per_m²',\n",
    "    'lat',\n",
    "    'lon'\n",
    "]\n",
    "\n",
    "for key in float_keys:\n",
    "    df[key] = df[key].str.replace(',', '.').apply(lambda x: float(re.findall(r'\\d+\\.\\d+|\\d+', x)[0]) if re.findall(r'\\d+\\.\\d+|\\d+', x) else 0.0).astype(float)\n",
    "\n",
    "for key in int_keys:\n",
    "    df[key] = df[key].apply(lambda x: x.replace(',', '') if isinstance(x, str) else str(x))\n",
    "    df[key] = df[key].apply(lambda x: int(re.search(r'\\d+', x).group(0)) if re.search(r'\\d+', x) else 0).astype(int)\n",
    "\n",
    "\n",
    "\n",
    "#TODO\n",
    "#check if any more preprocessing is needed (check the example below and add the columns to the list of keys above)\n",
    "#some keys (e.g. number of stories need to be checked for extra info other than number)\n",
    "    "
   ]
  },
  {
   "cell_type": "code",
   "execution_count": 75,
   "id": "2d1021ee",
   "metadata": {},
   "outputs": [
    {
     "data": {
      "text/plain": [
       "funda_identifier                                                            42118639\n",
       "location_part1                                                        Polderlaan 162\n",
       "location_part2                                                   2742 PP Waddinxveen\n",
       "location_part3                                                              Triangel\n",
       "price                                                                         735000\n",
       "living_area                                                                      168\n",
       "plot_size                                                                        233\n",
       "bedrooms                                                                           4\n",
       "asking_price_per_m²                                                            4.375\n",
       "listed_since                                                            May 17, 2023\n",
       "status                                                                     Available\n",
       "acceptance                                                 Available in consultation\n",
       "kind_of_house                                       Single-family home, double house\n",
       "building_type                                                        Resale property\n",
       "year_of_construction                                                            2022\n",
       "attached_to_the_building                                                            \n",
       "external_storage_space                                                             0\n",
       "volume_in_cubic_meters                                                           725\n",
       "number_of_rooms                                                 5 rooms (4 bedrooms)\n",
       "number_of_bath_rooms                               1 bathroom and 2 separate toilets\n",
       "bathroom_facilities                                                                 \n",
       "number_of_stories                                              2 stories and a attic\n",
       "facilities                                   Mechanical ventilation and solar panels\n",
       "label                                                                           A+++\n",
       "insulation                         Roof insulation, energy efficient window, insu...\n",
       "heating                            Geothermal heating, complete floor heating and...\n",
       "hot_water                                                         Geothermal heating\n",
       "ch_boiler                                                                           \n",
       "garden                                                                              \n",
       "back_garden                                                                         \n",
       "garden_location                                                                     \n",
       "shed_/_storage                                                                      \n",
       "type_of_facilities                      Parking on gated property and public parking\n",
       "lat                                                                         52.03252\n",
       "lon                                                                         4.640951\n",
       "description                        Benefit from new construction without waiting ...\n",
       "images_paths                       [42118639/image3.jpeg, 42118639/image1.jpeg, 4...\n",
       "in_the_neighborhood                       [Elementary school, Supermarket, Bus stop]\n",
       "type_of_roof                                      Gable roof covered with roof tiles\n",
       "location                                                     In residential district\n",
       "type_of_garage                                                                      \n",
       "capacity                                                                            \n",
       "other_space_inside_the_building                                                   16\n",
       "bedroom                                                                             \n",
       "type_apartment                                                                      \n",
       "located_at                                                                          \n",
       "balcony/roof_garden                                                                 \n",
       "accessibility                                                                       \n",
       "specific                                                                            \n",
       "quality_marks                                                                       \n",
       "Name: 5, dtype: object"
      ]
     },
     "execution_count": 75,
     "metadata": {},
     "output_type": "execute_result"
    }
   ],
   "source": [
    "df.loc[5]\n"
   ]
  },
  {
   "cell_type": "code",
   "execution_count": 5,
   "id": "53703c38",
   "metadata": {
    "colab": {
     "base_uri": "https://localhost:8080/"
    },
    "id": "53703c38",
    "outputId": "11c3e13a-ebd4-4e18-c431-3c3b2a2a11ea"
   },
   "outputs": [],
   "source": []
  },
  {
   "cell_type": "code",
   "execution_count": null,
   "id": "bf506732",
   "metadata": {
    "id": "bf506732"
   },
   "outputs": [],
   "source": [
    "\n"
   ]
  },
  {
   "cell_type": "code",
   "execution_count": null,
   "id": "8LQVlz00Wmjo",
   "metadata": {
    "id": "8LQVlz00Wmjo"
   },
   "outputs": [],
   "source": []
  }
 ],
 "metadata": {
  "colab": {
   "provenance": []
  },
  "kernelspec": {
   "display_name": "Python 3 (ipykernel)",
   "language": "python",
   "name": "python3"
  },
  "language_info": {
   "codemirror_mode": {
    "name": "ipython",
    "version": 3
   },
   "file_extension": ".py",
   "mimetype": "text/x-python",
   "name": "python",
   "nbconvert_exporter": "python",
   "pygments_lexer": "ipython3",
   "version": "3.11.3"
  }
 },
 "nbformat": 4,
 "nbformat_minor": 5
}
